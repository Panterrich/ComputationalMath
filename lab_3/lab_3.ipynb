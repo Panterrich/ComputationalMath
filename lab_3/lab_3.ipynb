{
 "cells": [
  {
   "cell_type": "markdown",
   "metadata": {},
   "source": [
    "Лабораторная работа №3"
   ]
  },
  {
   "cell_type": "markdown",
   "metadata": {},
   "source": [
    "12.4 л) $x \\cdot 2^x = 1$ \n",
    " \n",
    "Монотонно возрастающая функция $f(x) = x \\cdot 2^x$ и константа $g(x) = 1$ имеет не более 1 корня. \n",
    "Оценим расположение этого корня. $x \\in [\\frac{1}{2}, 1]$\n",
    "\n",
    "![График для уравнения](graph1.png)\n",
    "\n",
    "Рассмотрим следующий МПИ:\n",
    "\n",
    "$x_{n+1} = \\varphi(x_n) = 1 / 2^x = 2^{-x}$\n",
    "\n",
    "Проверим достаточное условие сходимости: \n",
    "\n",
    "$|\\varphi(x)'| = |- 2^{-x}| = 2^{-x} \\leqslant 2^{-0.5} = \\frac{\\sqrt{2}}{2} < 1$ на отрезке локализации"
   ]
  },
  {
   "cell_type": "code",
   "execution_count": 134,
   "metadata": {},
   "outputs": [
    {
     "name": "stdout",
     "output_type": "stream",
     "text": [
      "Решение x = 0.641185744504986\n",
      "Количество итерация N = 45 для точности решения eps = 1e-16\n"
     ]
    }
   ],
   "source": [
    "x_0 = 0.7\n",
    "x_n = x_0\n",
    "N   = 0\n",
    "eps = 1e-16\n",
    "\n",
    "def func(x):\n",
    "    return x * 2 ** x - 1\n",
    "\n",
    "def phi(x):\n",
    "    return 2 ** (-x)\n",
    "\n",
    "while (True):\n",
    "\n",
    "    x_0 = x_n\n",
    "    x_n = phi(x_n)\n",
    "\n",
    "    N += 1\n",
    "\n",
    "    # Критерий останова\n",
    "    if (abs(x_n - x_0) < eps): \n",
    "        break\n",
    "\n",
    "print(\"Решение x =\", x_n)\n",
    "print(\"Количество итерация N =\", N, \"для точности решения eps =\", eps)"
   ]
  },
  {
   "cell_type": "markdown",
   "metadata": {},
   "source": [
    "Проверка решения"
   ]
  },
  {
   "cell_type": "code",
   "execution_count": 135,
   "metadata": {},
   "outputs": [
    {
     "name": "stdout",
     "output_type": "stream",
     "text": [
      "0.0\n"
     ]
    }
   ],
   "source": [
    "print(func(x_n))"
   ]
  },
  {
   "cell_type": "markdown",
   "metadata": {},
   "source": [
    "12.7 б)\n",
    "\n",
    "\\begin{equation*}\n",
    " \\begin{cases}\n",
    "   (x-1.4)^2 - (y-0.6)^2 = 1\n",
    "   \\\\\n",
    "   4.2x^2 + 8.8y^2 = 1.42\n",
    " \\end{cases}\n",
    "\\end{equation*}\n",
    "\n",
    "![График для системы](graph2.png)\n",
    "\n",
    "Гипербола с эллипсом пересекаются в двух точках: $(x_1, y_1) \\in P_1 = \\{x \\in [0.3, 0.4], y \\in [0.2, 0.4] \\}$, $(x_2, y_2) \\in P_2 = \\{x \\in [-0.1, 0.0], y \\in [-0.3, -0.5] \\}$\n",
    "\n",
    "\n",
    "\\begin{equation*}\n",
    "J = \\left(\n",
    "\\begin{array}{cc}\n",
    "2(x - 1.4) & - 2(y - 0.6) \\\\\n",
    "8.4 x & 17.6 y \\\\\n",
    "\\end{array}\n",
    "\\right)\n",
    "\\end{equation*}"
   ]
  },
  {
   "cell_type": "code",
   "execution_count": 136,
   "metadata": {},
   "outputs": [
    {
     "name": "stdout",
     "output_type": "stream",
     "text": [
      "Решение X = [0.36026429 0.31530658]\n",
      "Количество итерация N = 5 для точности решения eps = 1e-16\n",
      "Решение X = [-0.01531815 -0.40156151]\n",
      "Количество итерация N = 7 для точности решения eps = 1e-16\n"
     ]
    }
   ],
   "source": [
    "import numpy as np\n",
    "\n",
    "def J(X):\n",
    "    return np.matrix([[2 * (X[0] - 1.4), - 2 * (X[1] - 0.6)], [8.4 * X[0], 17.6 * X[1]]])\n",
    "\n",
    "def F(X):\n",
    "    return np.array([(X[0] - 1.4) ** 2 - (X[1] - 0.6) ** 2 - 1, 4.2 * X[0] ** 2 + 8.8 * X[1] ** 2 - 1.42])\n",
    "\n",
    "def root(X_0, eps):\n",
    "    X_n = X_0\n",
    "    N   = 0\n",
    "\n",
    "    while (True):\n",
    "\n",
    "        X_0 = X_n\n",
    "        X_n = np.squeeze(np.asarray(X_n - np.linalg.inv(J(X_n)).dot(F(X_n))))\n",
    "\n",
    "        N += 1\n",
    "\n",
    "        # Критерий останова\n",
    "        if (np.linalg.norm(X_n - X_0, ord = 2) < eps): \n",
    "            break\n",
    "\n",
    "    return [N, X_n]\n",
    "\n",
    "\n",
    "eps = 1e-16\n",
    "\n",
    "\n",
    "X_0 = np.array([0.35, 0.3])\n",
    "N, X_1 = root(X_0, eps)\n",
    "\n",
    "print(\"Решение X =\", X_1)\n",
    "print(\"Количество итерация N =\", N, \"для точности решения eps =\", eps)\n",
    "\n",
    "X_0 = np.array([-0.5, -0.4])\n",
    "N, X_2 = root(X_0, eps)\n",
    "\n",
    "print(\"Решение X =\", X_2)\n",
    "print(\"Количество итерация N =\", N, \"для точности решения eps =\", eps)"
   ]
  },
  {
   "cell_type": "markdown",
   "metadata": {},
   "source": [
    "Проверка решений"
   ]
  },
  {
   "cell_type": "code",
   "execution_count": 137,
   "metadata": {},
   "outputs": [
    {
     "name": "stdout",
     "output_type": "stream",
     "text": [
      "[-1.11022302e-16 -2.22044605e-16]\n",
      "[2.22044605e-16 0.00000000e+00]\n"
     ]
    }
   ],
   "source": [
    "print(F(X_1))\n",
    "print(F(X_2))"
   ]
  }
 ],
 "metadata": {
  "kernelspec": {
   "display_name": "Python 3.10.7 64-bit",
   "language": "python",
   "name": "python3"
  },
  "language_info": {
   "codemirror_mode": {
    "name": "ipython",
    "version": 3
   },
   "file_extension": ".py",
   "mimetype": "text/x-python",
   "name": "python",
   "nbconvert_exporter": "python",
   "pygments_lexer": "ipython3",
   "version": "3.10.7"
  },
  "orig_nbformat": 4,
  "vscode": {
   "interpreter": {
    "hash": "e7370f93d1d0cde622a1f8e1c04877d8463912d04d973331ad4851f04de6915a"
   }
  }
 },
 "nbformat": 4,
 "nbformat_minor": 2
}
