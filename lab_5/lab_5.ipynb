{
 "cells": [
  {
   "attachments": {},
   "cell_type": "markdown",
   "metadata": {},
   "source": [
    "VII.9.5(В)\n",
    "\n",
    "Посчитать интеграл таблично заданной функции:\n",
    "\n",
    "|$x$ |$f(x)$ |\n",
    "| --- | --- |\n",
    "|0.00|1.000000|\n",
    "|0.15|1.007568|\n",
    "|0.30|1.031121|\n",
    "|0.45|1.073456|\n",
    "|0.60|1.140228|\n",
    "|0.75|1.242129|\n",
    "|0.90|1.400176|\n",
    "|1.05|1.660300|\n",
    "|1.20|2.143460|\n",
    "\n",
    "Считался следующий интеграл: \n",
    "$$\\int \\limits_0^{1.2} \\frac{\\tan(x)}{x} dx = 0.151058775929925517765$$\n",
    "\n",
    "Значение интеграла методом трапеций: `1.5190062`, \n",
    "точнение по методу Рунге-Ромберга-Ричардсона: `1.5110161`, \n",
    "аналогичный результат даёт метод Симпсона: `1.5110161`."
   ]
  },
  {
   "cell_type": "code",
   "execution_count": 80,
   "metadata": {},
   "outputs": [],
   "source": [
    "import numpy as np\n",
    "import matplotlib.pyplot as plt\n",
    "import matplotlib as mpl\n",
    "import pandas as pd\n",
    "import sympy as sp\n",
    "from scipy.optimize import curve_fit"
   ]
  },
  {
   "cell_type": "code",
   "execution_count": 81,
   "metadata": {},
   "outputs": [],
   "source": [
    "def integration_trapeze(y, h):\n",
    "    total = y[0] + y[-1]\n",
    "\n",
    "    for i in range(1, y.size - 1):\n",
    "        total += 2 * y[i]\n",
    "\n",
    "    return total * h / 2\n",
    "\n",
    "def integration_simson(y, h):\n",
    "    total = y[0] + y[-1]\n",
    "\n",
    "    for i in range(1, y.size - 1):\n",
    "        if (i % 2 == 1): \n",
    "            total += 4 * y[i]\n",
    "        else: \n",
    "            total += 2 * y[i]\n",
    "\n",
    "    return total * h / 3"
   ]
  },
  {
   "cell_type": "code",
   "execution_count": 82,
   "metadata": {},
   "outputs": [],
   "source": [
    "y = np.array([1.000000, 1.007568, 1.031121, 1.073456, 1.140228, 1.242129, 1.400176, 1.660300, 2.143460])\n",
    "x = np.array([0, 0.15, 0.30, 0.45, 0.60, 0.75, 0.90, 1.05, 1.2])"
   ]
  },
  {
   "cell_type": "code",
   "execution_count": 83,
   "metadata": {},
   "outputs": [
    {
     "name": "stdout",
     "output_type": "stream",
     "text": [
      "Значение интеграла методом трапеций: 1.5190062\n",
      "Уточнение по методу Рунге-Ромберга-Ричардсона: 1.5110161\n",
      "Значение интеграла методом Симсона: 1.5110161\n"
     ]
    }
   ],
   "source": [
    "y_2h = np.array([])\n",
    "h = x[1] - x[0]\n",
    "p = 2\n",
    "\n",
    "for i in range(y.size):\n",
    "    if (i % 2 == 0):\n",
    "        y_2h = np.append(y_2h, y[i]) \n",
    "\n",
    "print(\"Значение интеграла методом трапеций:\", \"%.7f\" % integration_trapeze(y, h))\n",
    "print(\"Уточнение по методу Рунге-Ромберга-Ричардсона:\", \"%.7f\" % ((p ** 2 * integration_trapeze(y, h) - integration_trapeze(y_2h, p * h)) / (p ** 2 - 1)))\n",
    "print(\"Значение интеграла методом Симсона:\", \"%.7f\" % integration_simson(y, h))\n"
   ]
  }
 ],
 "metadata": {
  "kernelspec": {
   "display_name": "Python 3",
   "language": "python",
   "name": "python3"
  },
  "language_info": {
   "codemirror_mode": {
    "name": "ipython",
    "version": 3
   },
   "file_extension": ".py",
   "mimetype": "text/x-python",
   "name": "python",
   "nbconvert_exporter": "python",
   "pygments_lexer": "ipython3",
   "version": "3.10.8"
  },
  "orig_nbformat": 4,
  "vscode": {
   "interpreter": {
    "hash": "e7370f93d1d0cde622a1f8e1c04877d8463912d04d973331ad4851f04de6915a"
   }
  }
 },
 "nbformat": 4,
 "nbformat_minor": 2
}
